{
 "cells": [
  {
   "cell_type": "markdown",
   "metadata": {},
   "source": [
    "# Постановка задачи и выяснение общей картины"
   ]
  },
  {
   "cell_type": "markdown",
   "metadata": {},
   "source": [
    "1. Разделите данные на две группы: органический трафик (прямые ссылки на сайт и поисковые переходы, за которые рекламодатель не платит); и рекламный трафик (всё остальное).\n",
    "\n",
    "2. Сравните доли пользователей на каждом этапе воронки между двумя группами. Насколько статистически значимы отличия между долями? Примените знакомые вам статистические критерии (подсказка: можно рассмотреть критерий долей).\n",
    "\n",
    "2. Посчитайте воронки для каждого канала коммуникации и выявите лучший и худший каналы по данным на этапах consideration, intent, purchase.\n",
    "\n",
    "3. Клиент, представляющий онлайн-кинотеатр, хотел бы исключить хуже всего работающий канал. Аргументированно опишите, какой канал будет отключён и как можно перераспределить показы, чтобы увеличить продажи. Формулируйте гипотезы, полагаясь на результаты анализа, полученные в предыдущих блоках."
   ]
  },
  {
   "cell_type": "code",
   "execution_count": 1,
   "metadata": {},
   "outputs": [],
   "source": [
    "import pandas as pd\n",
    "df_new = pd.read_csv('table_summary.csv')"
   ]
  },
  {
   "cell_type": "code",
   "execution_count": 3,
   "metadata": {},
   "outputs": [],
   "source": [
    "def print_fullycomplete_and_percent(df):\n",
    "    print('количество полностью заполненных объектов ',len(df.dropna()))\n",
    "    print('процент полностью заполненных объектов из всей выборки ',round(len(df.dropna()) / len(df) * 100, 2 ))"
   ]
  },
  {
   "cell_type": "code",
   "execution_count": 5,
   "metadata": {},
   "outputs": [
    {
     "name": "stdout",
     "output_type": "stream",
     "text": [
      "количество полностью заполненных объектов  4877\n",
      "процент полностью заполненных объектов из всей выборки  0.13\n"
     ]
    }
   ],
   "source": [
    "print_fullycomplete_and_percent(df_new2)"
   ]
  },
  {
   "cell_type": "code",
   "execution_count": 10,
   "metadata": {},
   "outputs": [],
   "source": [
    "# есть пропуски в данных"
   ]
  },
  {
   "cell_type": "code",
   "execution_count": 4,
   "metadata": {},
   "outputs": [],
   "source": [
    "# копируем новый датасет\n",
    "df_new2 = df_new.copy() "
   ]
  },
  {
   "cell_type": "code",
   "execution_count": 6,
   "metadata": {
    "scrolled": true
   },
   "outputs": [
    {
     "data": {
      "text/plain": [
       "profit          99.873183\n",
       "user_id          0.000000\n",
       "funnel_stage     0.000000\n",
       "timestamp        0.000000\n",
       "os               0.000000\n",
       "ad_channel       0.000000\n",
       "dtype: float64"
      ]
     },
     "execution_count": 6,
     "metadata": {},
     "output_type": "execute_result"
    }
   ],
   "source": [
    "# итого получаем, что пустых данных нет\n",
    "missing_values_percent = ( (df_new2.isna().sum() / len(df_new2))* 100 ).sort_values(ascending=False)\n",
    "missing_values_percent "
   ]
  },
  {
   "cell_type": "code",
   "execution_count": 7,
   "metadata": {},
   "outputs": [],
   "source": [
    "df_new2 = df_new2.drop('profit', axis = 1)"
   ]
  },
  {
   "cell_type": "code",
   "execution_count": 8,
   "metadata": {},
   "outputs": [
    {
     "name": "stdout",
     "output_type": "stream",
     "text": [
      "количество полностью заполненных объектов  3845707\n",
      "процент полностью заполненных объектов из всей выборки  100.0\n"
     ]
    }
   ],
   "source": [
    "print_fullycomplete_and_percent(df_new2)"
   ]
  },
  {
   "cell_type": "code",
   "execution_count": 9,
   "metadata": {},
   "outputs": [],
   "source": [
    "# теперь нет пропусков в данных"
   ]
  },
  {
   "cell_type": "markdown",
   "metadata": {},
   "source": [
    "Собираем в список все целевые действия и создаем новый признак равный целевому действию и не целевому действию"
   ]
  },
  {
   "cell_type": "code",
   "execution_count": 14,
   "metadata": {},
   "outputs": [],
   "source": [
    "utm_medium_type_organic_not_organic = [\n",
    "    'search', \n",
    "    'organic_traffic', \n",
    "    'native']\n",
    "df_new2['utm_medium_type_organic_not_organic'] = df_new2['ad_channel'].apply(lambda x : 'organic' if x in utm_medium_type_organic_not_organic else 'not_organic')"
   ]
  },
  {
   "cell_type": "markdown",
   "metadata": {},
   "source": [
    "Строим сводную таблицу с группировкой по типу траффика (органика / неорганика) и типу конверсии - в целефвое действие и нецелевое действие"
   ]
  },
  {
   "cell_type": "code",
   "execution_count": 20,
   "metadata": {},
   "outputs": [
    {
     "data": {
      "text/plain": [
       "utm_medium_type_organic_not_organic  funnel_stage \n",
       "not_organic                          consideration     139612\n",
       "                                     intent             74835\n",
       "                                     interest         1489688\n",
       "                                     purchase            1208\n",
       "organic                              consideration     200494\n",
       "                                     intent            206076\n",
       "                                     interest         1730125\n",
       "                                     purchase            3669\n",
       "Name: user_id, dtype: int64"
      ]
     },
     "execution_count": 20,
     "metadata": {},
     "output_type": "execute_result"
    }
   ],
   "source": [
    "df_new2.groupby(['utm_medium_type_organic_not_organic','funnel_stage'])['user_id'].count()\n"
   ]
  },
  {
   "cell_type": "markdown",
   "metadata": {},
   "source": [
    "Нулевая гипотеза : кол-во конверсий в продажу среди органического трафика такое же, как и при не-органическом\n",
    "Альтенативная гипотеза: кол-во конверсий выше при не-органическом траффике\n",
    "Используем биномиальный критерий проверки гипотезы."
   ]
  },
  {
   "cell_type": "markdown",
   "metadata": {},
   "source": [
    "Создаем функцию статистического Биноминального критерия значимости"
   ]
  },
  {
   "cell_type": "code",
   "execution_count": 21,
   "metadata": {},
   "outputs": [],
   "source": [
    "def p_bin(m1,n1,m2,n2,level_conf=0.05): \n",
    "    # на вход ф-ии подается кол-во успехов варианта А и общее число вариантов m1,n1 \n",
    "    #и число успехов варанта Б и общее число вариантов m2, n2, \n",
    "    #а также уровень значимости - опционально (0.05 по умолчанию)\n",
    "    from scipy import stats\n",
    "    T = (m1/n1 - m2/n2)/((m1+m2)/(n1+n2)*(1 - (m1+m2)/(n1+n2))*(1/n1+1/n2))**0.5 #формула биномиального критерия вер-сти\n",
    "    P = 1 - stats.norm.cdf(T)  # вычисляем p-значение\n",
    "    # критичная область у нас со знаком БОЛЬШЕ, потому что задачался вопрос в альтернативной что ВАРИАНТ А был более значимым\n",
    "    print(f\"Stats {T}, p-value {P}\")\n",
    "    if (P < level_conf):\n",
    "        print(f\"На уровне значимости {level_conf} нулевая гипотеза отвергается в пользу альтернативной: Вариаент А более значим (значимая разница Варианта А перед вариантом Б есть)\")\n",
    "    else:\n",
    "        print(f\"На уровне значимости {level_conf} нулевая гипотеза принимается (нет значимой разницы между вариантом А и Б)\")\n",
    "#p_bin(46,1100,30,1000,0.1) Пример ф-иии и ответа:\n",
    "# На уровне значимости 0.1 нулевая гипотеза отвергается в пользу альтернативной: Вариаент А более значим (значимая разница Варианта А перед вариантом Б есть)"
   ]
  },
  {
   "cell_type": "code",
   "execution_count": 22,
   "metadata": {},
   "outputs": [
    {
     "name": "stdout",
     "output_type": "stream",
     "text": [
      "Stats -27.534331445524977, p-value 1.0\n",
      "На уровне значимости 0.05 нулевая гипотеза принимается (нет значимой разницы между вариантом А и Б)\n"
     ]
    }
   ],
   "source": [
    "p_bin(1208, 1208+1489688+74835+139612, 3669, 3669+1730125+206076+200494)"
   ]
  },
  {
   "cell_type": "code",
   "execution_count": null,
   "metadata": {},
   "outputs": [],
   "source": [
    "# выясняем лучший и худший каналы по данным на этапах consideration, intent, purchase"
   ]
  },
  {
   "cell_type": "code",
   "execution_count": 51,
   "metadata": {},
   "outputs": [
    {
     "name": "stdout",
     "output_type": "stream",
     "text": [
      "search\n",
      "search interest to consideration 11.23\n",
      "search consideration to intent  117.38\n",
      "search intent to purcahse 1.96\n",
      "\n",
      "video\n",
      "video interest to consideration 10.26\n",
      "video consideration to intent  0.95\n",
      "video intent to purcahse 0.86\n",
      "\n",
      "banner\n",
      "banner interest to consideration 9.74\n",
      "banner consideration to intent  84.12\n",
      "banner intent to purcahse 1.72\n",
      "\n",
      "organic_traffic\n",
      "organic_traffic interest to consideration 12.43\n",
      "organic_traffic consideration to intent  86.67\n",
      "organic_traffic intent to purcahse 1.17\n",
      "\n",
      "partner_network\n",
      "partner_network interest to consideration 7.38\n",
      "partner_network consideration to intent  110.93\n",
      "partner_network intent to purcahse 1.64\n",
      "\n",
      "native\n",
      "native interest to consideration 12.24\n",
      "native consideration to intent  15.78\n",
      "native intent to purcahse 1.86\n",
      "\n",
      "rich\n",
      "rich interest to consideration 8.55\n",
      "rich consideration to intent  106.70\n",
      "rich intent to purcahse 0.44\n",
      "\n",
      "other\n",
      "other interest to consideration 9.61\n",
      "other consideration to intent  103.31\n",
      "other intent to purcahse 2.30\n",
      "\n"
     ]
    }
   ],
   "source": [
    "ad_channel_list = [\n",
    "'search',\n",
    "'video' ,          \n",
    "'banner'  ,            \n",
    "'organic_traffic'  ,   \n",
    "'partner_network',     \n",
    "'native'   ,           \n",
    "'rich'  ,               \n",
    "'other' ]\n",
    "for _ in ad_channel_list:\n",
    "    _v_interest_consiferation = 100 * (df_new2.groupby(['ad_channel','funnel_stage'])['user_id'].count()[_][0]) / (df_new2.groupby(['ad_channel','funnel_stage'])['user_id'].count()[_][2])\n",
    "    _v_conideartion_intent = 100 * (df_new2.groupby(['ad_channel','funnel_stage'])['user_id'].count()[_][1]) / (df_new2.groupby(['ad_channel','funnel_stage'])['user_id'].count()[_][0])\n",
    "    _v_intent_purchase = 100 * (df_new2.groupby(['ad_channel','funnel_stage'])['user_id'].count()[_][3]) / (df_new2.groupby(['ad_channel','funnel_stage'])['user_id'].count()[_][1])\n",
    "    print(_)\n",
    "    print(_, \"interest to consideration\",  f\"{_v_interest_consiferation:.2f}\" )\n",
    "    print(_, \"consideration to intent \",  f\"{_v_conideartion_intent:.2f}\" )\n",
    "    print(_, \"intent to purcahse\",  f\"{_v_intent_purchase:.2f}\" )\n",
    "    print()\n",
    "    \n",
    "        "
   ]
  },
  {
   "cell_type": "markdown",
   "metadata": {},
   "source": [
    "лучший и худший каналы\n",
    "\n",
    "1. interest to consideration: лучший organic_traffic (12.43%) худший partner_network  (7.38%)\n",
    "2. consideration to intent: лучший search (117.38%) худший video (0.95%)\n",
    "3. intent to purcahse: лучший other (2.30%) худший video (0.86%)"
   ]
  },
  {
   "cell_type": "markdown",
   "metadata": {},
   "source": [
    "## Исходя из данных анализа: ОТВЕТЫ\n",
    "\n",
    "Значимой разницы между конверсий в продажу среди органического трафика и не-органического нет\n",
    "\n",
    "более того, лучшая воронка продаж - на этапах это organic_traffic, search, наихудшие это video и rich\n",
    "\n",
    "В количестве продаж лидирует \n",
    "banner (c хорошей воронкой banner interest to consideration 9.74 banner consideration to intent  84.12, banner intent to purcahse 1.72\n",
    "organic_traffic (organic_traffic interest to consideration 12.43 organic_traffic consideration to intent  86.67 organic_traffic intent to purcahse 1.17) \n",
    "partner_network (partner_network interest to consideration 7.38 partner_network consideration to intent  110.9 partner_network intent to purcahse 1.64)\n",
    "\n",
    "Следует отказаться от video, rich и переориентироваться на organic_traffic, search, partner_network, banner"
   ]
  },
  {
   "cell_type": "code",
   "execution_count": 52,
   "metadata": {},
   "outputs": [],
   "source": [
    "#ниже группировка по каналам продаж и этапами воронки"
   ]
  },
  {
   "cell_type": "code",
   "execution_count": 37,
   "metadata": {},
   "outputs": [
    {
     "data": {
      "text/plain": [
       "ad_channel       funnel_stage \n",
       "banner           consideration      47541\n",
       "                 intent             39992\n",
       "                 interest          487948\n",
       "                 purchase             688\n",
       "native           consideration      12597\n",
       "                 intent              1988\n",
       "                 interest          102953\n",
       "                 purchase              37\n",
       "organic_traffic  consideration      53592\n",
       "                 intent             46447\n",
       "                 interest          431003\n",
       "                 purchase             542\n",
       "other            consideration       1813\n",
       "                 intent              1873\n",
       "                 interest           18859\n",
       "                 purchase              43\n",
       "partner_network  consideration      24721\n",
       "                 intent             27422\n",
       "                 interest          334837\n",
       "                 purchase             450\n",
       "rich             consideration       4657\n",
       "                 intent              4969\n",
       "                 interest           54440\n",
       "                 purchase              22\n",
       "search           consideration     134305\n",
       "                 intent            157641\n",
       "                 interest         1196169\n",
       "                 purchase            3090\n",
       "video            consideration      60880\n",
       "                 intent               579\n",
       "                 interest          593604\n",
       "                 purchase               5\n",
       "Name: user_id, dtype: int64"
      ]
     },
     "execution_count": 37,
     "metadata": {},
     "output_type": "execute_result"
    }
   ],
   "source": [
    "df_new2.groupby(['ad_channel','funnel_stage'])['user_id'].count()"
   ]
  }
 ],
 "metadata": {
  "kernelspec": {
   "display_name": "Python 3",
   "language": "python",
   "name": "python3"
  },
  "language_info": {
   "codemirror_mode": {
    "name": "ipython",
    "version": 3
   },
   "file_extension": ".py",
   "mimetype": "text/x-python",
   "name": "python",
   "nbconvert_exporter": "python",
   "pygments_lexer": "ipython3",
   "version": "3.8.2"
  }
 },
 "nbformat": 4,
 "nbformat_minor": 5
}
